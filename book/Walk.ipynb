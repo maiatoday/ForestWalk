{
 "cells": [
  {
   "cell_type": "code",
   "source": [
    "import net.maiatoday.forestwalk.tools.canvas\n",
    "import net.maiatoday.forestwalk.tools.randomColor\n",
    "import net.maiatoday.forestwalk.tools.randomRadius\n",
    "import net.maiatoday.forestwalk.tools.randomOffset\n",
    "import net.maiatoday.forestwalk.tools.buildPoissonDiscPoints\n",
    "\n",
    "val ovalCount = 100\n",
    "canvas { width, height -> \n",
    "    repeat(ovalCount) {\n",
    "        color = randomColor()\n",
    "        val radius = randomRadius()\n",
    "        val center = randomOffset(width = width, height = height)\n",
    "        drawOval(center.x, center.y, radius, radius)\n",
    "    }\n",
    " }"
   ],
   "metadata": {
    "collapsed": false
   },
   "outputs": [],
   "execution_count": null
  },
  {
   "metadata": {},
   "cell_type": "code",
   "source": [
    "\n",
    "canvas { width, height ->\n",
    "    repeat(200) {\n",
    "        color = randomColor()\n",
    "        val p = randomOffset(width, height)\n",
    "        drawRect(p.x, p.y, 2, 2)\n",
    "    }\n",
    "}"
   ],
   "outputs": [],
   "execution_count": null
  },
  {
   "metadata": {},
   "cell_type": "code",
   "source": [
    "\n",
    "canvas(600, 600) { width, height ->\n",
    "    val flowers = buildPoissonDiscPoints(width, height, 15f)\n",
    "    for (f in flowers) {\n",
    "        // color = randomColor(((f.y/height.toFloat())*255).toInt())\n",
    "        color = randomColor()\n",
    "        fillOval(f.x, f.y, 4, 4)\n",
    "    }\n",
    "}"
   ],
   "outputs": [],
   "execution_count": null
  },
  {
   "metadata": {},
   "cell_type": "code",
   "source": [
    "import java.io.File\n",
    "import javax.imageio.ImageIO\n",
    "\n",
    "fun show(name: String) {\n",
    "    DISPLAY(ImageIO.read(File(\"../images/$name\")))\n",
    "}\n"
   ],
   "outputs": [],
   "execution_count": null
  },
  {
   "metadata": {},
   "cell_type": "code",
   "source": "show(\"enterSmall.png\")",
   "outputs": [],
   "execution_count": null
  },
  {
   "metadata": {},
   "cell_type": "code",
   "source": "",
   "outputs": [],
   "execution_count": null
  }
 ],
 "metadata": {
  "kernelspec": {
   "display_name": "Kotlin",
   "language": "kotlin",
   "name": "kotlin"
  },
  "language_info": {
   "name": "kotlin",
   "version": "1.9.0",
   "mimetype": "text/x-kotlin",
   "file_extension": ".kt",
   "pygments_lexer": "kotlin",
   "codemirror_mode": "text/x-kotlin",
   "nbconvert_exporter": ""
  },
  "ktnbPluginMetadata": {
   "projectDependencies": true
  }
 },
 "nbformat": 4,
 "nbformat_minor": 0
}
