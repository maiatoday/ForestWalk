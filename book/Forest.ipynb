{
 "cells": [
  {
   "cell_type": "code",
   "source": [
    "import java.io.File\n",
    "import javax.imageio.ImageIO\n",
    "\n",
    "val showImages = false\n",
    "fun show(name: String) {\n",
    "    if (showImages) DISPLAY(ImageIO.read(File(\"../images/$name\")))\n",
    "}"
   ],
   "metadata": {
    "collapsed": false,
    "ExecuteTime": {
     "end_time": "2024-04-17T18:22:45.474805Z",
     "start_time": "2024-04-17T18:22:45.451259Z"
    }
   },
   "outputs": [],
   "execution_count": 70
  },
  {
   "cell_type": "code",
   "source": [
    "show(\"ForestWalkIntro.jpg\")"
   ],
   "metadata": {
    "collapsed": false,
    "ExecuteTime": {
     "end_time": "2024-04-17T18:22:45.507301Z",
     "start_time": "2024-04-17T18:22:45.491054Z"
    }
   },
   "outputs": [],
   "execution_count": 71
  },
  {
   "cell_type": "markdown",
   "source": [
    "# Overview\n",
    "\n",
    "Why this topic? Why this tool?"
   ],
   "metadata": {
    "collapsed": false
   }
  },
  {
   "cell_type": "markdown",
   "source": [
    "# Detour\n",
    "\n",
    "Forest Walks take a detour. I can write, I can have images, I can code but can I draw?"
   ],
   "metadata": {
    "collapsed": false
   }
  },
  {
   "cell_type": "code",
   "source": [
    "show(\"detour.jpg\")\n"
   ],
   "metadata": {
    "collapsed": false,
    "ExecuteTime": {
     "end_time": "2024-04-17T18:22:45.523060Z",
     "start_time": "2024-04-17T18:22:45.507758Z"
    }
   },
   "outputs": [],
   "execution_count": 72
  },
  {
   "cell_type": "markdown",
   "source": [
    "# Benoît and the Beast\n"
   ],
   "metadata": {
    "collapsed": false
   }
  },
  {
   "cell_type": "code",
   "source": [
    "show(\"BenoitAndBeast.jpg\")"
   ],
   "metadata": {
    "collapsed": false,
    "ExecuteTime": {
     "end_time": "2024-04-17T18:22:45.538004Z",
     "start_time": "2024-04-17T18:22:45.523438Z"
    }
   },
   "outputs": [],
   "execution_count": 73
  },
  {
   "cell_type": "markdown",
   "source": [
    "### Self Similar\n",
    "\n",
    "  ![Mandelbrot](https://upload.wikimedia.org/wikipedia/commons/thumb/2/21/Mandel_zoom_00_mandelbrot_set.jpg/480px-Mandel_zoom_00_mandelbrot_set.jpg) \n",
    "  \n",
    "  ![Mandelbrot seahorse valley](https://upload.wikimedia.org/wikipedia/commons/thumb/e/ee/Mandel_zoom_01_head_and_shoulder.jpg/480px-Mandel_zoom_01_head_and_shoulder.jpg)\n",
    "  \n",
    "  ![Mandelbrot seahorse antenna](https://upload.wikimedia.org/wikipedia/commons/thumb/f/fc/Mandel_zoom_08_satellite_antenna.jpg/480px-Mandel_zoom_08_satellite_antenna.jpg)\n",
    "   "
   ],
   "metadata": {
    "collapsed": false
   }
  },
  {
   "cell_type": "markdown",
   "source": [
    "### Simple Construction"
   ],
   "metadata": {
    "collapsed": false
   }
  },
  {
   "cell_type": "code",
   "source": "//ben",
   "metadata": {
    "collapsed": false,
    "ExecuteTime": {
     "end_time": "2024-04-17T18:22:45.551958Z",
     "start_time": "2024-04-17T18:22:45.538504Z"
    }
   },
   "outputs": [],
   "execution_count": 74
  },
  {
   "cell_type": "markdown",
   "source": "a complex number c is a member of the [Mandelbrot](https://en.wikipedia.org/wiki/Mandelbrot_set#cite_note-13) set if, when starting with z0 = 0 and applying the iteration repeatedly, the absolute value of zn remains bounded for all n>0",
   "metadata": {
    "collapsed": false
   }
  },
  {
   "cell_type": "markdown",
   "source": [
    "### Surface complexity - dimension"
   ],
   "metadata": {
    "collapsed": false
   }
  },
  {
   "cell_type": "markdown",
   "source": [
    "\n",
    "# Aristid Lindenmayer\n",
    "\n"
   ],
   "metadata": {
    "collapsed": false
   }
  },
  {
   "cell_type": "code",
   "source": [
    "show(\"AristidPlantDictionary.jpg\")"
   ],
   "metadata": {
    "collapsed": false,
    "ExecuteTime": {
     "end_time": "2024-04-17T18:22:45.601671Z",
     "start_time": "2024-04-17T18:22:45.552410Z"
    }
   },
   "outputs": [],
   "execution_count": 75
  },
  {
   "cell_type": "code",
   "source": "//rock",
   "metadata": {
    "collapsed": false,
    "ExecuteTime": {
     "end_time": "2024-04-17T18:22:45.617159Z",
     "start_time": "2024-04-17T18:22:45.602133Z"
    }
   },
   "outputs": [],
   "execution_count": 76
  },
  {
   "cell_type": "code",
   "source": "show(\"TurtleTerrapinTortoise.jpg\")",
   "metadata": {
    "collapsed": false,
    "ExecuteTime": {
     "end_time": "2024-04-17T18:22:45.633508Z",
     "start_time": "2024-04-17T18:22:45.617662Z"
    }
   },
   "outputs": [],
   "execution_count": 77
  },
  {
   "cell_type": "markdown",
   "source": [
    " ---\n",
    "\n",
    "## Turtle Tortoise Terrapin\n",
    "Turtles [vs](https://www.diffen.com/difference/Tortoise_vs_Turtle) Tortoises [vs](https://africageographic.com/stories/whats-the-difference-between-turtles-tortoises-and-terrapins/) Terrapins\n",
    "\n",
    "[Terrapin-Turtle](https://cyberneticzoo.com/cyberneticanimals/1969-the-logo-turtle-seymour-papert-marvin-minsky-et-al-american/)\n",
    "\n",
    "\n",
    "### The code\n",
    "\n",
    "| Character     | Action                                                       |\n",
    "|---------------|--------------------------------------------------------------|\n",
    "| `F`           | `pen down move forward`                                      |\n",
    "| `f`           | `move forward`                                               |\n",
    "| `+`           | `rotate by the angle clockwise`                              |\n",
    "| `-`           | `rotate by the angle anti-clockwise`                         |\n",
    "| `[`           | `remember the state (position, angle and more) on the stack` |\n",
    "| `]`           | `take the most recent state from the stack and use it `      |\n",
    "| `             | `use the next pen colour`                                    |\n",
    "| anything else | is ignored                                                   |\n"
   ],
   "metadata": {
    "collapsed": false
   }
  },
  {
   "cell_type": "markdown",
   "source": [
    "### The *Koch* curve\n",
    "\n",
    "Seed = `F+F+F+F`\n",
    "Rules = `F -> F+F-F-FF+F+F-F`\n",
    "Angle = 90\n"
   ],
   "metadata": {
    "collapsed": false
   }
  },
  {
   "cell_type": "code",
   "source": "//koch",
   "metadata": {
    "collapsed": false,
    "ExecuteTime": {
     "end_time": "2024-04-17T18:22:45.648948Z",
     "start_time": "2024-04-17T18:22:45.633990Z"
    }
   },
   "outputs": [],
   "execution_count": 78
  },
  {
   "cell_type": "markdown",
   "source": [
    "### Some other examples\n",
    "\n",
    "| Seed  | Rules                              | Angle | Iterations | Notes                     | Template |\n",
    "|-------|------------------------------------|-------|------------|---------------------------|----------|\n",
    "| `F`   | `F to F[+F]F[-F]F`                 | 25.7  | 5          | Long thin weed            | weed     |\n",
    "| `F`   | `F to F[+F]F[-F][F]`               | 20    | 5          | lots of straight branches |          |\n",
    "| `F`   | `F to FF-[-F+F+F]+[+F-F-F]`        | 22.5  | 4          | I like this one           | plant    |\n",
    "| `X`   | `X to F[+X]F[-X]+X, F to FF`       | 20    | 7          |                           |          |\n",
    "| `X`   | `X to F[+X][-X]FX, F to FF`        | 25.7  | 7          | Sort of Xmas tree         | xmas     |\n",
    "| `X`   | `X to F-[[X]+X]+F[+FX]-X, F to FF` | 22.5  | 5          |                           |          |\n",
    "| `-X`  | `X to F[-X][X]F[-X]+FX, F to FF`   | 25    | 5          | The wikipedia one         | wiki     |\n"
   ],
   "metadata": {
    "collapsed": false
   }
  },
  {
   "cell_type": "code",
   "source": "//wikiweed",
   "metadata": {
    "collapsed": false,
    "ExecuteTime": {
     "end_time": "2024-04-17T18:22:45.663836Z",
     "start_time": "2024-04-17T18:22:45.649388Z"
    }
   },
   "outputs": [],
   "execution_count": 79
  },
  {
   "cell_type": "code",
   "source": "//plants",
   "metadata": {
    "collapsed": false,
    "ExecuteTime": {
     "end_time": "2024-04-17T18:22:45.677754Z",
     "start_time": "2024-04-17T18:22:45.664297Z"
    }
   },
   "outputs": [],
   "execution_count": 80
  },
  {
   "cell_type": "markdown",
   "source": [
    "\n",
    "## Stochastic Squirrel\n",
    "\n",
    "[involving a random variable](https://www.merriam-webster.com/dictionary/stochastic#:~:text=%CB%88kas%2Dtik%20st%C5%8D%2D-,1,%3A%20involving%20chance%20or%20probability)\n"
   ],
   "metadata": {
    "collapsed": false
   }
  },
  {
   "cell_type": "code",
   "source": [
    "show(\"StochasticSquirrel.jpg\")"
   ],
   "metadata": {
    "collapsed": false,
    "ExecuteTime": {
     "end_time": "2024-04-17T18:22:45.694646Z",
     "start_time": "2024-04-17T18:22:45.678198Z"
    }
   },
   "outputs": [],
   "execution_count": 81
  },
  {
   "cell_type": "code",
   "source": "//squirrel",
   "metadata": {
    "collapsed": false,
    "ExecuteTime": {
     "end_time": "2024-04-17T18:22:45.707542Z",
     "start_time": "2024-04-17T18:22:45.695237Z"
    }
   },
   "outputs": [],
   "execution_count": 82
  },
  {
   "metadata": {},
   "cell_type": "markdown",
   "source": [
    " ### In search of the perfect tree\n",
    "\n",
    "| Seed  | Rules                              | Angle | Iterations | Notes                     | Template |\n",
    "|-------|------------------------------------|-------|------------|---------------------------|----------|\n",
    "| `F`   | `F to F[+F]F[-F]F`                 | 25.7  | 5          | Long thin weed            | weed     |\n",
    "| `F`   | `F to F[+F]F[-F][F]`               | 20    | 5          | lots of straight branches |          |\n",
    "| `F`   | `F to FF-[-F+F+F]+[+F-F-F]`        | 22.5  | 4          | I like this one           | plant    |\n",
    "| `X`   | `X to F[+X]F[-X]+X, F to FF`       | 20    | 7          |                           |          |\n",
    "| `X`   | `X to F[+X][-X]FX, F to FF`        | 25.7  | 7          | Sort of Xmas tree         | xmas     |\n",
    "| `X`   | `X to F-[[X]+X]+F[+FX]-X, F to FF` | 22.5  | 5          |                           |          |\n",
    "| `-X`  | `X to F[-X][X]F[-X]+FX, F to FF`   | 25    | 5          | The wikipedia one         | wiki     |"
   ]
  },
  {
   "metadata": {
    "ExecuteTime": {
     "end_time": "2024-04-17T18:22:45.720597Z",
     "start_time": "2024-04-17T18:22:45.707946Z"
    }
   },
   "cell_type": "code",
   "source": "//xmas",
   "outputs": [],
   "execution_count": 83
  },
  {
   "cell_type": "markdown",
   "source": [
    "\n",
    "## Seedlings to Forest\n"
   ],
   "metadata": {
    "collapsed": false
   }
  },
  {
   "cell_type": "code",
   "source": [
    "show(\"seedlings.jpg\")"
   ],
   "metadata": {
    "collapsed": false,
    "ExecuteTime": {
     "end_time": "2024-04-17T18:22:45.739796Z",
     "start_time": "2024-04-17T18:22:45.721103Z"
    }
   },
   "outputs": [],
   "execution_count": 84
  },
  {
   "cell_type": "code",
   "source": "//read",
   "metadata": {
    "collapsed": false,
    "ExecuteTime": {
     "end_time": "2024-04-17T18:22:45.753534Z",
     "start_time": "2024-04-17T18:22:45.740245Z"
    }
   },
   "outputs": [],
   "execution_count": 85
  },
  {
   "metadata": {
    "ExecuteTime": {
     "end_time": "2024-04-17T18:22:45.765771Z",
     "start_time": "2024-04-17T18:22:45.753979Z"
    }
   },
   "cell_type": "code",
   "source": "//modify",
   "outputs": [],
   "execution_count": 86
  },
  {
   "metadata": {
    "ExecuteTime": {
     "end_time": "2024-04-17T18:22:45.777692Z",
     "start_time": "2024-04-17T18:22:45.766203Z"
    }
   },
   "cell_type": "code",
   "source": "//forest",
   "outputs": [],
   "execution_count": 87
  },
  {
   "metadata": {
    "ExecuteTime": {
     "end_time": "2024-04-17T18:22:45.792832Z",
     "start_time": "2024-04-17T18:22:45.778196Z"
    }
   },
   "cell_type": "code",
   "source": "//petals",
   "outputs": [],
   "execution_count": 88
  },
  {
   "cell_type": "markdown",
   "source": [
    "\n",
    "## Share"
   ],
   "metadata": {
    "collapsed": false
   }
  },
  {
   "cell_type": "code",
   "source": [
    "show(\"ForestWalkShare.jpg\")"
   ],
   "metadata": {
    "collapsed": false,
    "ExecuteTime": {
     "end_time": "2024-04-17T18:22:45.809544Z",
     "start_time": "2024-04-17T18:22:45.793625Z"
    }
   },
   "outputs": [],
   "execution_count": 89
  },
  {
   "cell_type": "markdown",
   "source": [
    "# All The Links\n",
    "\n",
    "> There are two kinds of people: those who know nothing about fractals and those who\n",
    "> think that there are two kinds of people: those who know nothing about fractals and\n",
    "> those who think that there are two kinds people. . . .\n",
    "\n",
    "[from Math Jokes](https://arxiv.org/pdf/2403.01010.pdf)\n",
    "\n",
    "## Fractals\n",
    "[Mandelbrot on wikipedia](https://en.wikipedia.org/wiki/Benoit_Mandelbrot)\n",
    "\n",
    "[Mandlebrot explorer](https://mandelbrot.site)\n",
    "\n",
    "[Mandelbrot how does it work](http://warp.povusers.org/Mandelbrot/)\n",
    "\n",
    "## L-systems\n",
    "\n",
    "[Lindenmayer on wikipedia](https://en.wikipedia.org/wiki/Aristid_Lindenmayer)\n",
    "\n",
    "[The algorythmic beauty of plants](http://algorithmicbotany.org/papers/#abop)\n",
    "\n",
    "[More formulas](https://observablehq.com/@kelleyvanevert/l-systems-2)\n",
    "\n",
    "[L-System playground](https://dmitrykandalov.com/lsystem/)\n",
    "\n",
    "## Notebooks and DataFrames\n",
    "\n",
    "[Info on DataFrames](https://kotlin.github.io/dataframe/createdataframe.html#todataframe)\n",
    "\n",
    "[Info on Kotlin Notebooks](https://blog.jetbrains.com/kotlin/2023/07/introducing-kotlin-notebook/)\n",
    "\n",
    "[Video on Kotlin Notebooks](https://www.youtube.com/watch?v=_RYV7ZvMKpE)\n"
   ],
   "metadata": {
    "collapsed": false
   }
  }
 ],
 "metadata": {
  "kernelspec": {
   "display_name": "Kotlin",
   "language": "kotlin",
   "name": "kotlin"
  },
  "language_info": {
   "name": "kotlin",
   "version": "1.9.0",
   "mimetype": "text/x-kotlin",
   "file_extension": ".kt",
   "pygments_lexer": "kotlin",
   "codemirror_mode": "text/x-kotlin",
   "nbconvert_exporter": ""
  },
  "ktnbPluginMetadata": {
   "projectDependencies": true
  }
 },
 "nbformat": 4,
 "nbformat_minor": 0
}
